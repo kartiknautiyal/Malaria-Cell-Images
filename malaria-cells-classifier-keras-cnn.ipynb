{
 "cells": [
  {
   "cell_type": "markdown",
   "metadata": {
    "_cell_guid": "b1076dfc-b9ad-4769-8c92-a6c4dae69d19",
    "_uuid": "8f2839f25d086af736a60e9eeb907d3b93b6e0e5"
   },
   "source": [
    "The model trains on the **Malaria Cell Images Dataset**. It uses a CNN to classify the images."
   ]
  },
  {
   "cell_type": "markdown",
   "metadata": {
    "_cell_guid": "79c7e3d0-c299-4dcb-8224-4455121ee9b0",
    "_uuid": "d629ff2d2480ee46fbb7e2d37f6b5fab8052498a",
    "collapsed": true
   },
   "source": [
    "**Importing Necessary Libraries**"
   ]
  },
  {
   "cell_type": "code",
   "execution_count": 1,
   "metadata": {},
   "outputs": [
    {
     "name": "stderr",
     "output_type": "stream",
     "text": [
      "Using TensorFlow backend.\n"
     ]
    }
   ],
   "source": [
    "import cv2\n",
    "from PIL import Image\n",
    "import matplotlib.pyplot as plt\n",
    "import numpy as np\n",
    "import pandas as pd\n",
    "from keras.models import Sequential\n",
    "from keras.layers import Conv2D\n",
    "from keras.layers import MaxPooling2D\n",
    "from keras.layers import Flatten, Dense, Dropout\n",
    "from keras.preprocessing.image import *\n",
    "from keras.preprocessing import image\n",
    "from sklearn.model_selection import train_test_split\n",
    "import os\n"
   ]
  },
  {
   "cell_type": "markdown",
   "metadata": {},
   "source": [
    "**Preparing Data**\n",
    "\n",
    "In this section, images are loaded and converted into numpy arrays. At the same time labels for them are set.\n",
    "0 : Parasitized, 1 : Uninfected"
   ]
  },
  {
   "cell_type": "code",
   "execution_count": 2,
   "metadata": {},
   "outputs": [
    {
     "name": "stdout",
     "output_type": "stream",
     "text": [
      "\n",
      "\n"
     ]
    }
   ],
   "source": [
    "infected = os.listdir('../input/cell-images-for-detecting-malaria/cell_images/cell_images/Parasitized')\n",
    "uninfected = os.listdir('../input/cell-images-for-detecting-malaria/cell_images/cell_images/Uninfected')\n",
    "data = []\n",
    "labels = []\n",
    "for i in infected:\n",
    "    try:\n",
    "        image = cv2.imread('../input/cell-images-for-detecting-malaria/cell_images/cell_images/Parasitized/'+i)\n",
    "        image_array = Image.fromarray(image , 'RGB')\n",
    "        resize_img = image_array.resize((64 , 64))\n",
    "        data.append(np.array(resize_img))\n",
    "        labels.append(0)\n",
    "        \n",
    "    except AttributeError:\n",
    "        print(\"\")\n",
    "\n",
    "for b in uninfected:\n",
    "    try:\n",
    "        image=cv2.imread('../input/cell-images-for-detecting-malaria/cell_images/cell_images/Uninfected/'+b)\n",
    "        image_from_array = Image.fromarray(image, 'RGB')\n",
    "        resize_img = image_array.resize((64, 64))\n",
    "        data.append(np.array(resize_img))\n",
    "        labels.append(1)\n",
    "    except AttributeError:\n",
    "        print(\"\")\n",
    "        \n",
    "data = np.array(data)\n",
    "labels = np.array(labels)"
   ]
  },
  {
   "cell_type": "markdown",
   "metadata": {},
   "source": [
    "**Splitting the data**\n",
    "\n",
    "Data is split into 3 subsets: Training set, Validation set, Test set\n"
   ]
  },
  {
   "cell_type": "code",
   "execution_count": 3,
   "metadata": {},
   "outputs": [],
   "source": [
    "train_data , x , train_label , y = train_test_split(data,labels,test_size = 0.2,random_state = 123)\n",
    "val_data , test_data , val_label , test_label = train_test_split(x,y,test_size = 0.5,random_state = 123)"
   ]
  },
  {
   "cell_type": "markdown",
   "metadata": {},
   "source": [
    "**Visualizing the sub-sets**\n",
    "\n",
    "Just to see if there is an approximate equal samples of both infected and uninfected in all 3 subsets, plotting the labels."
   ]
  },
  {
   "cell_type": "code",
   "execution_count": 4,
   "metadata": {},
   "outputs": [
    {
     "data": {
      "image/png": "[encoded data removed]",
      "text/plain": [
       "<Figure size 432x288 with 3 Axes>"
      ]
     },
     "metadata": {
      "needs_background": "light"
     },
     "output_type": "display_data"
    }
   ],
   "source": [
    "val,occ = np.unique(train_label, return_counts = True)\n",
    "val1,occ1= np.unique(val_label, return_counts = True)\n",
    "val2,occ2 = np.unique(test_label, return_counts = True)\n",
    "\n",
    "x_ax = ['0','1']\n",
    "plt.subplot(1,3,1)\n",
    "plt.bar(x_ax,occ,color = ['C0','C1'], width = 0.5)\n",
    "plt.title(\"Training Set\")\n",
    "plt.subplot(1,3,2)\n",
    "plt.bar(x_ax,occ1,color = ['C0','C1'], width = 0.5)\n",
    "plt.title(\"Validation Set\")\n",
    "plt.subplot(1,3,3)\n",
    "plt.bar(x_ax,occ2,color = ['C0','C1'], width = 0.5)\n",
    "plt.title(\"Test Set\")\n",
    "plt.tight_layout()\n",
    "plt.show()"
   ]
  },
  {
   "cell_type": "markdown",
   "metadata": {},
   "source": [
    "**Building the model**\n",
    "\n",
    "A sequential model is used."
   ]
  },
  {
   "cell_type": "code",
   "execution_count": 5,
   "metadata": {},
   "outputs": [],
   "source": [
    "model = Sequential()\n",
    "\n",
    "model.add(Conv2D(filters = 32, kernel_size = (3,3), input_shape = (64,64,3), activation = 'relu'))\n",
    "model.add(MaxPooling2D(pool_size=(2,2)))\n",
    "\n",
    "model.add(Conv2D(filters = 64, kernel_size = (3,3), activation = 'relu'))\n",
    "model.add(MaxPooling2D(pool_size=(2,2)))\n",
    "\n",
    "model.add(Conv2D(filters = 128, kernel_size = (3,3), activation = 'relu'))\n",
    "model.add(MaxPooling2D(pool_size=(2,2)))\n",
    "\n",
    "model.add(Flatten())\n",
    "\n",
    "model.add(Dense(units =256,activation = 'relu'))\n",
    "model.add(Dropout(rate=0.2))\n",
    "model.add(Dense(units=1, activation='sigmoid'))\n",
    "\n",
    "model.compile(optimizer='adam', loss='binary_crossentropy', metrics=['accuracy'])\n"
   ]
  },
  {
   "cell_type": "markdown",
   "metadata": {},
   "source": [
    "**Layers of the model and summary:**\n"
   ]
  },
  {
   "cell_type": "code",
   "execution_count": 6,
   "metadata": {},
   "outputs": [
    {
     "name": "stdout",
     "output_type": "stream",
     "text": [
      "_________________________________________________________________\n",
      "Layer (type)                 Output Shape              Param #   \n",
      "=================================================================\n",
      "conv2d_1 (Conv2D)            (None, 62, 62, 32)        896       \n",
      "_________________________________________________________________\n",
      "max_pooling2d_1 (MaxPooling2 (None, 31, 31, 32)        0         \n",
      "_________________________________________________________________\n",
      "conv2d_2 (Conv2D)            (None, 29, 29, 64)        18496     \n",
      "_________________________________________________________________\n",
      "max_pooling2d_2 (MaxPooling2 (None, 14, 14, 64)        0         \n",
      "_________________________________________________________________\n",
      "conv2d_3 (Conv2D)            (None, 12, 12, 128)       73856     \n",
      "_________________________________________________________________\n",
      "max_pooling2d_3 (MaxPooling2 (None, 6, 6, 128)         0         \n",
      "_________________________________________________________________\n",
      "flatten_1 (Flatten)          (None, 4608)              0         \n",
      "_________________________________________________________________\n",
      "dense_1 (Dense)              (None, 256)               1179904   \n",
      "_________________________________________________________________\n",
      "dropout_1 (Dropout)          (None, 256)               0         \n",
      "_________________________________________________________________\n",
      "dense_2 (Dense)              (None, 1)                 257       \n",
      "=================================================================\n",
      "Total params: 1,273,409\n",
      "Trainable params: 1,273,409\n",
      "Non-trainable params: 0\n",
      "_________________________________________________________________\n"
     ]
    }
   ],
   "source": [
    "model.summary()"
   ]
  },
  {
   "cell_type": "markdown",
   "metadata": {},
   "source": [
    "**Batches of images**\n",
    "\n",
    "Images are fed to the model in batches. To generate those batches ImageDataGenerator is used."
   ]
  },
  {
   "cell_type": "code",
   "execution_count": 7,
   "metadata": {},
   "outputs": [],
   "source": [
    "train_datagen = ImageDataGenerator(rescale=1./255,shear_range=0.25,zoom_range=0.25,horizontal_flip=True,vertical_flip=True)  \n",
    "val_datagen= ImageDataGenerator(rescale=1./255)\n",
    "\n",
    "train_gen = train_datagen.flow(train_data,train_label, batch_size=16)\n",
    "val_gen = val_datagen.flow(val_data,val_label, batch_size=16)\n",
    "test_gen = val_datagen.flow(test_data,test_label, batch_size =1, shuffle = False)\n",
    "\n",
    "STEP_SIZE_TRAIN=train_gen.n//train_gen.batch_size\n",
    "STEP_SIZE_VALID=val_gen.n//val_gen.batch_size\n",
    "STEP_SIZE_TEST=test_gen.n//test_gen.batch_size"
   ]
  },
  {
   "cell_type": "markdown",
   "metadata": {},
   "source": [
    "**Training the model**\n",
    "\n",
    "The model is trained for no of epochs = 5\n"
   ]
  },
  {
   "cell_type": "code",
   "execution_count": 8,
   "metadata": {},
   "outputs": [
    {
     "name": "stdout",
     "output_type": "stream",
     "text": [
      "Epoch 1/5\n",
      "1377/1377 [==============================] - 108s 79ms/step - loss: 0.0576 - acc: 0.9788 - val_loss: 0.0066 - val_acc: 0.9978\n",
      "Epoch 2/5\n",
      "1377/1377 [==============================] - 106s 77ms/step - loss: 0.0243 - acc: 0.9925 - val_loss: 8.0207e-04 - val_acc: 0.9996\n",
      "Epoch 3/5\n",
      "1377/1377 [==============================] - 106s 77ms/step - loss: 0.0028 - acc: 0.9995 - val_loss: 7.1006e-05 - val_acc: 1.0000\n",
      "Epoch 4/5\n",
      "1377/1377 [==============================] - 107s 77ms/step - loss: 0.0176 - acc: 0.9957 - val_loss: 1.1664e-05 - val_acc: 1.0000\n",
      "Epoch 5/5\n",
      " 460/1377 [=========>....................] - ETA: 1:09 - loss: 0.0017 - acc: 0.9999"
     ]
    }
   ],
   "source": [
    "ep = 5\n",
    "\n",
    "hist = model.fit_generator(generator = train_gen, validation_data= val_gen,\n",
    "                           steps_per_epoch=STEP_SIZE_TRAIN, epochs=ep, \n",
    "                           validation_steps=STEP_SIZE_VALID)\n"
   ]
  },
  {
   "cell_type": "markdown",
   "metadata": {},
   "source": [
    "**Evaluating the model on the test set**\n",
    "\n",
    "Model is evaluated for the test set and loss and accuracy is calculated"
   ]
  },
  {
   "cell_type": "code",
   "execution_count": 9,
   "metadata": {},
   "outputs": [
    {
     "name": "stdout",
     "output_type": "stream",
     "text": [
      "2756/2756 [==============================] - 3s 997us/step\n",
      "On the test set:\n",
      "Loss= 1.096325587010645e-07\n",
      "Accuracy= 1.0\n"
     ]
    }
   ],
   "source": [
    "(loss,acc) = a= model.evaluate(test_data,test_label,verbose = 1)\n",
    "print(\"On the test set:\")\n",
    "print(\"Loss= \"+ str(loss))\n",
    "print(\"Accuracy= \" + str(acc))\n"
   ]
  },
  {
   "cell_type": "markdown",
   "metadata": {},
   "source": [
    "**Plotting accuracies over epochs**\n",
    "\n",
    "To check for overfitting, the accuracy over the training set and the accuracy over the validation set is plotted"
   ]
  },
  {
   "cell_type": "code",
   "execution_count": 10,
   "metadata": {},
   "outputs": [
    {
     "data": {
      "image/png": "[encoded data removed]",
      "text/plain": [
       "<Figure size 432x288 with 1 Axes>"
      ]
     },
     "metadata": {
      "needs_background": "light"
     },
     "output_type": "display_data"
    }
   ],
   "source": [
    "val_acc = hist.history['val_acc']\n",
    "acc= hist.history['acc']\n",
    "x= list(range(1,ep+1))\n",
    "\n",
    "plt.plot(x,acc,marker='o',label = 'acc')\n",
    "plt.plot(x,val_acc,marker='o',label = 'val_acc')\n",
    "\n",
    "plt.legend()\n",
    "plt.show()"
   ]
  },
  {
   "cell_type": "markdown",
   "metadata": {},
   "source": [
    "**Plotting Losses over epochs**\n",
    "\n",
    "Similarly losses are plotted\n"
   ]
  },
  {
   "cell_type": "code",
   "execution_count": 11,
   "metadata": {},
   "outputs": [
    {
     "data": {
      "image/png": "[encoded data removed]",
      "text/plain": [
       "<Figure size 432x288 with 1 Axes>"
      ]
     },
     "metadata": {
      "needs_background": "light"
     },
     "output_type": "display_data"
    }
   ],
   "source": [
    "val_loss = hist.history['val_loss']\n",
    "loss= hist.history['loss']\n",
    "\n",
    "plt.plot(x,loss,marker='o',label = 'acc')\n",
    "plt.plot(x,val_loss,marker='o',label = 'val_acc')\n",
    "\n",
    "plt.legend()\n",
    "plt.show()"
   ]
  },
  {
   "cell_type": "markdown",
   "metadata": {},
   "source": [
    "**Checking if accuracy is indeed 1**\n",
    "\n",
    "Since shuffle is False for the test_generator, we can predict on the test set data and compare the predictions to the test labels. This will verify if the accuracy is indeed 1 on the test set"
   ]
  },
  {
   "cell_type": "code",
   "execution_count": 12,
   "metadata": {},
   "outputs": [
    {
     "name": "stdout",
     "output_type": "stream",
     "text": [
      "2756/2756 [==============================] - 8s 3ms/step\n"
     ]
    },
    {
     "data": {
      "text/plain": [
       "True"
      ]
     },
     "execution_count": 12,
     "metadata": {},
     "output_type": "execute_result"
    }
   ],
   "source": [
    "test_gen.reset()\n",
    "pred=model.predict_generator(test_gen,steps=STEP_SIZE_TEST, verbose=1)\n",
    "pred = np.around(pred)\n",
    "pred = pred.flatten()\n",
    "\n",
    "np.array_equal(test_label,pred)\n"
   ]
  }
 ],
 "metadata": {
  "kernelspec": {
   "display_name": "Python 3",
   "language": "python",
   "name": "python3"
  },
  "language_info": {
   "codemirror_mode": {
    "name": "ipython",
    "version": 3
   },
   "file_extension": ".py",
   "mimetype": "text/x-python",
   "name": "python",
   "nbconvert_exporter": "python",
   "pygments_lexer": "ipython3",
   "version": "3.6.6"
  }
 },
 "nbformat": 4,
 "nbformat_minor": 1
}
